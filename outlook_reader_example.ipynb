{
 "cells": [
  {
   "cell_type": "markdown",
   "metadata": {},
   "source": [
    "# Outlook Mail Reader Example\n",
    "\n",
    "This notebook demonstrates how to use the `OutlookMailReader` class to search and filter emails from Microsoft Outlook using the Graph API."
   ]
  },
  {
   "cell_type": "markdown",
   "metadata": {},
   "source": [
    "## 1. Import and Initialize"
   ]
  },
  {
   "cell_type": "code",
   "execution_count": null,
   "metadata": {},
   "source": [
    "# Import the OutlookMailReader class\n",
    "from outlook_mail_reader import OutlookMailReader"
   ]
  },
  {
   "cell_type": "code",
   "execution_count": null,
   "metadata": {},
   "source": [
    "# Option 1: Initialize with credentials from environment variables (.env file)\n",
    "reader = OutlookMailReader(load_env=True)"
   ]
  },
  {
   "cell_type": "code",
   "execution_count": null,
   "metadata": {},
   "source": [
    "# Option 2: Initialize with explicit credentials\n",
    "# reader = OutlookMailReader(\n",
    "#     tenant_id=\"your-tenant-id\",\n",
    "#     client_id=\"your-client-id\",\n",
    "#     verbose=True\n",
    "# )"
   ]
  },
  {
   "cell_type": "code",
   "execution_count": null,
   "metadata": {},
   "source": [
    "# Option 3: Initialize with an existing access token\n",
    "# reader = OutlookMailReader(\n",
    "#     access_token=\"your-access-token\",\n",
    "#     verbose=True\n",
    "# )"
   ]
  },
  {
   "cell_type": "markdown",
   "metadata": {},
   "source": [
    "## 2. Authenticate\n",
    "\n",
    "If you provided an access token, this step is optional. Otherwise, you need to authenticate using the device code flow."
   ]
  },
  {
   "cell_type": "code",
   "execution_count": null,
   "metadata": {},
   "source": [
    "# Authenticate (will display a URL and code to enter in your browser)\n",
    "reader.authenticate()"
   ]
  },
  {
   "cell_type": "markdown",
   "metadata": {},
   "source": [
    "## 3. Search for Emails"
   ]
  },
  {
   "cell_type": "code",
   "execution_count": null,
   "metadata": {},
   "source": [
    "# Search for emails from a specific sender containing a keyword\n",
    "emails = reader.search_emails(\n",
    "    sender_email=\"FASTRAPP@paypal.com\",  # Sender email address\n",
    "    keyword=\"failed\",                    # Keyword to search for\n",
    "    max_items=25,                        # Maximum number of emails to retrieve\n",
    "    search_in_subject=True,              # Search in subject\n",
    "    search_in_body=True,                 # Search in body\n",
    "    case_sensitive=False,                # Case-insensitive search\n",
    "    format_results=True                  # Format results into a cleaner structure\n",
    ")\n",
    "\n",
    "print(f\"Found {len(emails)} matching emails\")"
   ]
  },
  {
   "cell_type": "markdown",
   "metadata": {},
   "source": [
    "## 4. Display Results"
   ]
  },
  {
   "cell_type": "code",
   "execution_count": null,
   "metadata": {},
   "source": [
    "# Display email information in a table\n",
    "import pandas as pd\n",
    "\n",
    "if emails:\n",
    "    # Create a DataFrame for display\n",
    "    df = pd.DataFrame([\n",
    "        {\n",
    "            'Date': email['timestamp'],\n",
    "            'Sender': email['sender_email'],\n",
    "            'Subject': email['subject'],\n",
    "            'Link': f\"[Open in Outlook]({email['outlook_link']})\"\n",
    "        }\n",
    "        for email in emails\n",
    "    ])\n",
    "    \n",
    "    # Display as HTML table\n",
    "    display(df)\n",
    "else:\n",
    "    print(\"No matching emails found\")"
   ]
  },
  {
   "cell_type": "markdown",
   "metadata": {},
   "source": [
    "## 5. Examine Individual Emails"
   ]
  },
  {
   "cell_type": "code",
   "execution_count": null,
   "metadata": {},
   "source": [
    "# Print detailed information about the first email\n",
    "if emails:\n",
    "    reader.print_message_details(emails[0])"
   ]
  },
  {
   "cell_type": "markdown",
   "metadata": {},
   "source": [
    "## 6. Advanced Usage: Custom Filtering"
   ]
  },
  {
   "cell_type": "code",
   "execution_count": null,
   "metadata": {},
   "source": [
    "# Get raw messages from sender\n",
    "raw_messages = reader.get_messages_from_sender(\n",
    "    sender_email=\"FASTRAPP@paypal.com\",\n",
    "    max_items=50\n",
    ")\n",
    "\n",
    "# Apply custom filtering logic\n",
    "filtered_messages = []\n",
    "for msg in raw_messages:\n",
    "    subject = msg.get('subject', '').lower()\n",
    "    body = msg.get('bodyPreview', '').lower()\n",
    "    \n",
    "    # Custom filter: emails containing 'failed' and 'authentication' together\n",
    "    if ('failed' in subject or 'failed' in body) and ('authentication' in subject or 'authentication' in body):\n",
    "        filtered_messages.append(msg)\n",
    "\n",
    "# Format the filtered messages\n",
    "formatted_messages = [reader.format_message_info(msg) for msg in filtered_messages]\n",
    "\n",
    "print(f\"Found {len(formatted_messages)} emails matching custom criteria\")"
   ]
  },
  {
   "cell_type": "markdown",
   "metadata": {},
   "source": [
    "## 7. Save Results to File"
   ]
  },
  {
   "cell_type": "code",
   "execution_count": null,
   "metadata": {},
   "source": [
    "# Save results to CSV\n",
    "if emails:\n",
    "    df = pd.DataFrame([\n",
    "        {\n",
    "            'Date': email['timestamp'],\n",
    "            'Sender': email['sender_email'],\n",
    "            'Subject': email['subject'],\n",
    "            'Preview': email['preview'],\n",
    "            'Link': email['outlook_link']\n",
    "        }\n",
    "        for email in emails\n",
    "    ])\n",
    "    \n",
    "    # Save to CSV\n",
    "    df.to_csv('fastrapp_failed_emails.csv', index=False)\n",
    "    print(\"Results saved to 'fastrapp_failed_emails.csv'\")"
   ]
  }
 ],
 "metadata": {
  "kernelspec": {
   "display_name": "Python 3",
   "language": "python",
   "name": "python3"
  },
  "language_info": {
   "codemirror_mode": {
    "name": "ipython",
    "version": 3
   },
   "file_extension": ".py",
   "mimetype": "text/x-python",
   "name": "python",
   "nbconvert_exporter": "python",
   "pygments_lexer": "ipython3",
   "version": "3.8.10"
  }
 },
 "nbformat": 4,
 "nbformat_minor": 4
}